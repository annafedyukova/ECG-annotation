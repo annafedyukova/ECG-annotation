{
 "cells": [
  {
   "cell_type": "code",
   "execution_count": 6,
   "id": "379cda4e-8b5a-40ea-9d5a-c71026170db1",
   "metadata": {},
   "outputs": [
    {
     "data": {
      "text/html": [
       "\n",
       "        <iframe\n",
       "            width=\"100%\"\n",
       "            height=\"650\"\n",
       "            src=\"http://127.0.0.1:8050/\"\n",
       "            frameborder=\"0\"\n",
       "            allowfullscreen\n",
       "        ></iframe>\n",
       "        "
      ],
      "text/plain": [
       "<IPython.lib.display.IFrame at 0x29f4e7ad3d0>"
      ]
     },
     "metadata": {},
     "output_type": "display_data"
    }
   ],
   "source": [
    "import importlib\n",
    "\n",
    "import Dash_for_jupyter\n",
    "Dash_for_jupyter = importlib.reload(Dash_for_jupyter)\n",
    "\n",
    "folder_path = \"/home/jovyan\"#\"C:/Users/fedyu/Desktop/UoM/Job/ISYS90069/lobachevsky-university-electrocardiography-database-1.0.1/lobachevsky-university-electrocardiography-database-1.0.1\"\n",
    "dash = Dash_for_jupyter.Dash(folder_path)\n",
    "dash.display()"
   ]
  },
  {
   "cell_type": "code",
   "execution_count": null,
   "id": "eeeff84c-ed3f-43f7-8430-556b22f2deef",
   "metadata": {},
   "outputs": [],
   "source": []
  }
 ],
 "metadata": {
  "kernelspec": {
   "display_name": "Python 3 (ipykernel)",
   "language": "python",
   "name": "python3"
  },
  "language_info": {
   "codemirror_mode": {
    "name": "ipython",
    "version": 3
   },
   "file_extension": ".py",
   "mimetype": "text/x-python",
   "name": "python",
   "nbconvert_exporter": "python",
   "pygments_lexer": "ipython3",
   "version": "3.8.11"
  }
 },
 "nbformat": 4,
 "nbformat_minor": 5
}
